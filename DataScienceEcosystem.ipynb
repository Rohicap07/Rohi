{
 "cells": [
  {
   "cell_type": "markdown",
   "id": "1ca56afd",
   "metadata": {},
   "source": []
  },
  {
   "cell_type": "markdown",
   "id": "83cc62b4",
   "metadata": {},
   "source": [
    "Data Science Tools and Ecosystem"
   ]
  },
  {
   "cell_type": "markdown",
   "id": "dd23fc33",
   "metadata": {},
   "source": [
    "In this notebook, Data Science Tools and ecosystem are summarized."
   ]
  },
  {
   "cell_type": "code",
   "execution_count": null,
   "id": "748b392e",
   "metadata": {},
   "outputs": [],
   "source": [
    "Objectives:\n",
    "    *Learnt diffferent tools used for data science\n",
    "    *Basics of python, R, watson studio.\n",
    "    *Hands on jupyter notebook, R, Watson studio, Github"
   ]
  },
  {
   "cell_type": "markdown",
   "id": "eb909c15",
   "metadata": {},
   "source": [
    "Some of the popular languages that data scientists use are: \n",
    "    Python\n",
    "    R\n",
    "    Sql\n",
    "    Java\n",
    "    Scala\n",
    "    etc"
   ]
  },
  {
   "cell_type": "markdown",
   "id": "9a29694a",
   "metadata": {},
   "source": [
    "Some of the commonly used libraries used by data scientists includes: \n",
    "    Matplotlib\n",
    "    NumPy\n",
    "    Pandas\n",
    "    Seaborn\n",
    "    SciPy\n",
    "    Keras\n",
    "    Tensorflow"
   ]
  },
  {
   "cell_type": "markdown",
   "id": "809797de",
   "metadata": {},
   "source": [
    "| Data Science tools |\n",
    "|:--------:|\n",
    "|  R  | \n",
    "|  Jupyter notebook   | \n",
    "|  Python   | "
   ]
  },
  {
   "cell_type": "markdown",
   "id": "3364b05d",
   "metadata": {},
   "source": [
    "Below are few examples of evaluating arithmetic expressions in python <br>\n",
    "2+3=5\n",
    "5-1=4\n",
    "2*3=6\n",
    "2**2=4\n",
    "2/2=1"
   ]
  },
  {
   "cell_type": "code",
   "execution_count": 5,
   "id": "06daa39f",
   "metadata": {},
   "outputs": [
    {
     "name": "stdout",
     "output_type": "stream",
     "text": [
      "17\n"
     ]
    }
   ],
   "source": [
    "#This is a simple arithmetic expression to multiply then add integers.\n",
    "a=3*4+5\n",
    "print(a)"
   ]
  },
  {
   "cell_type": "code",
   "execution_count": 9,
   "id": "e46ce3b3",
   "metadata": {},
   "outputs": [
    {
     "name": "stdout",
     "output_type": "stream",
     "text": [
      "3.3333333333333335\n"
     ]
    }
   ],
   "source": [
    "#This will convert 200 minutes to hours by dividing by 60\n",
    "a=200/60\n",
    "print (a)"
   ]
  },
  {
   "cell_type": "markdown",
   "id": "67b01022",
   "metadata": {},
   "source": [
    "## Rohit"
   ]
  },
  {
   "cell_type": "code",
   "execution_count": null,
   "id": "55cd6413",
   "metadata": {},
   "outputs": [],
   "source": []
  }
 ],
 "metadata": {
  "kernelspec": {
   "display_name": "Python 3",
   "language": "python",
   "name": "python3"
  },
  "language_info": {
   "codemirror_mode": {
    "name": "ipython",
    "version": 3
   },
   "file_extension": ".py",
   "mimetype": "text/x-python",
   "name": "python",
   "nbconvert_exporter": "python",
   "pygments_lexer": "ipython3",
   "version": "3.8.8"
  }
 },
 "nbformat": 4,
 "nbformat_minor": 5
}
